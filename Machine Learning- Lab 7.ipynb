{
 "cells": [
  {
   "cell_type": "code",
   "execution_count": 1,
   "id": "f8f78654",
   "metadata": {},
   "outputs": [
    {
     "name": "stdout",
     "output_type": "stream",
     "text": [
      "Sample Vector: [54 25 72 33 91]\n",
      "Mean: 55.0\n",
      "Variance: 594.0\n"
     ]
    }
   ],
   "source": [
    "#Create a vector (array) of 1XN dimension representing N-dimensional feature vector of a sample. Write a program to compute\n",
    "# the mean and variance of the elements present in the array.\n",
    "\n",
    "import numpy as np\n",
    "def compute_mean_variance(vector):\n",
    "    mean = np.mean(vector)\n",
    "    variance = np.var(vector)\n",
    "    return mean, variance\n",
    "\n",
    "N = 5  \n",
    "low = 1  \n",
    "high = 100\n",
    "sample_vector = np.random.randint(low, high, size=N)  \n",
    "\n",
    "# Compute mean and variance\n",
    "mean, variance = compute_mean_variance(sample_vector)\n",
    "\n",
    "print(\"Sample Vector:\", sample_vector)\n",
    "print(\"Mean:\", mean)\n",
    "print(\"Variance:\", variance)"
   ]
  },
  {
   "cell_type": "code",
   "execution_count": 2,
   "id": "551201c8",
   "metadata": {},
   "outputs": [
    {
     "name": "stdout",
     "output_type": "stream",
     "text": [
      "Sample Vector 1: [36 37 36 12]\n",
      "Sample Vector 2: [18 32 37 17]\n",
      "Covariance between vectors: 74.0\n"
     ]
    }
   ],
   "source": [
    "#Create two vectors each of dimension 1XM each representing N-dimensional feature vector of a sample. Write a program to\n",
    "#compute the Covariance between them.\n",
    "\n",
    "import numpy as np\n",
    "def compute_covariance(vector1, vector2):\n",
    "    covariance_matrix = np.cov(vector1, vector2)\n",
    "    covariance = covariance_matrix[0, 1]  # Extracting the covariance value from the covariance matrix\n",
    "    return covariance\n",
    "\n",
    "N = 4 \n",
    "low = 1  \n",
    "high = 50\n",
    "sample_vector1 = np.random.randint(low,high,size=N)  # Creating a random vector of shape 1xM\n",
    "sample_vector2 = np.random.randint(low,high,size=N)  # Creating another random vector of shape 1xM\n",
    "\n",
    "# Compute covariance\n",
    "covariance = compute_covariance(sample_vector1, sample_vector2)\n",
    "\n",
    "print(\"Sample Vector 1:\", sample_vector1)\n",
    "print(\"Sample Vector 2:\", sample_vector2)\n",
    "print(\"Covariance between vectors:\", covariance)"
   ]
  },
  {
   "cell_type": "code",
   "execution_count": 3,
   "id": "a850d9f1",
   "metadata": {},
   "outputs": [
    {
     "name": "stdout",
     "output_type": "stream",
     "text": [
      "Sample Vector 1: [14 19 24  2 43]\n",
      "Sample Vector 2: [ 6  9  8  2 48]\n",
      "Correlation between vectors: 0.9037690290260585\n"
     ]
    }
   ],
   "source": [
    "#Create two vectors each of dimension 1XN. Write a program to compute the Correlation between them.\n",
    "\n",
    "import numpy as np\n",
    "def compute_correlation(vector1, vector2):\n",
    "    correlation_matrix = np.corrcoef(vector1, vector2)\n",
    "    correlation = correlation_matrix[0, 1]  # Extracting the correlation value from the correlation matrix\n",
    "    return correlation\n",
    "\n",
    "N = 5 \n",
    "low = 1  \n",
    "high = 50\n",
    "sample_vector1 = np.random.randint(low,high,size=N)  # Creating a random vector of shape 1xM\n",
    "sample_vector2 = np.random.randint(low,high,size=N)  # Creating another random vector of shape 1xM\n",
    "\n",
    "# Compute correlation\n",
    "correlation = compute_correlation(sample_vector1, sample_vector2)\n",
    "\n",
    "print(\"Sample Vector 1:\", sample_vector1)\n",
    "print(\"Sample Vector 2:\", sample_vector2)\n",
    "print(\"Correlation between vectors:\", correlation)"
   ]
  },
  {
   "cell_type": "code",
   "execution_count": 4,
   "id": "04a8439b",
   "metadata": {},
   "outputs": [
    {
     "name": "stdout",
     "output_type": "stream",
     "text": [
      "Feature matrix:\n",
      "[[14  0 21 39]\n",
      " [14 40 27  1]\n",
      " [42 20  0 36]]\n",
      "\n",
      "Covariance matrix:\n",
      "[[ 263.         -238.33333333   59.66666667]\n",
      " [-238.33333333  281.66666667 -195.        ]\n",
      " [  59.66666667 -195.          353.        ]]\n",
      "\n",
      "Correlation matrix:\n",
      "[[ 1.         -0.87566741  0.19582428]\n",
      " [-0.87566741  1.         -0.61841431]\n",
      " [ 0.19582428 -0.61841431  1.        ]]\n"
     ]
    }
   ],
   "source": [
    "# Create a Matrix of MXN dimension representing the M-dimensional feature vector for N number of samples i. e (i,j)th\n",
    "# entry of the matrix represents the ith feature of jth sample. Write a program to compute the covariance matrix and correlation \n",
    "# matrix. Comment on takeaways from these matrixes.\n",
    "\n",
    "def compute_covariance_matrix(feature_matrix):\n",
    "    covariance_matrix = np.cov(feature_matrix)\n",
    "    return covariance_matrix\n",
    "\n",
    "def compute_correlation_matrix(feature_matrix):\n",
    "    correlation_matrix = np.corrcoef(feature_matrix)\n",
    "    return correlation_matrix\n",
    "\n",
    "M = 3  # Number of dimensions/features\n",
    "N = 4  # Number of samples\n",
    "feature_matrix = np.random.randint(50, size=(M, N))  \n",
    "print(\"Feature matrix:\")\n",
    "print(feature_matrix)\n",
    "covariance_matrix = compute_covariance_matrix(feature_matrix)\n",
    "print(\"\\nCovariance matrix:\")\n",
    "print(covariance_matrix)\n",
    "correlation_matrix = compute_correlation_matrix(feature_matrix)\n",
    "print(\"\\nCorrelation matrix:\")\n",
    "print(correlation_matrix)"
   ]
  },
  {
   "cell_type": "code",
   "execution_count": null,
   "id": "69505454",
   "metadata": {},
   "outputs": [],
   "source": []
  }
 ],
 "metadata": {
  "kernelspec": {
   "display_name": "Python 3 (ipykernel)",
   "language": "python",
   "name": "python3"
  },
  "language_info": {
   "codemirror_mode": {
    "name": "ipython",
    "version": 3
   },
   "file_extension": ".py",
   "mimetype": "text/x-python",
   "name": "python",
   "nbconvert_exporter": "python",
   "pygments_lexer": "ipython3",
   "version": "3.9.12"
  }
 },
 "nbformat": 4,
 "nbformat_minor": 5
}
