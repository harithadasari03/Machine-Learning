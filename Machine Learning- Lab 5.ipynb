{
 "cells": [
  {
   "cell_type": "code",
   "execution_count": 1,
   "id": "0e8bdf7e",
   "metadata": {},
   "outputs": [
    {
     "name": "stdout",
     "output_type": "stream",
     "text": [
      "Slope (m): 1.1696969696969697\n",
      "Intercept (b): 1.2363636363636363\n",
      "Sum Squared Error (SSE): 5.624242424242423\n",
      "R squared: 0.952538038613988\n"
     ]
    }
   ],
   "source": [
    "# Implement Linear Regression and calculate sum of residual error on the following Datasets.\n",
    "#x = [0, 1, 2, 3, 4, 5, 6, 7, 8, 9]\n",
    "#y = [1, 3, 2, 5, 7, 8, 8, 9, 10, 12]\n",
    "#Compute the regression coefficients using analytic formulation and calculate Sum\n",
    "#Squared Error (SSE) and R^2 value.\n",
    "\n",
    "\n",
    "import numpy as np\n",
    "x = np.array([0, 1, 2, 3, 4, 5, 6, 7, 8, 9])\n",
    "y = np.array([1, 3, 2, 5, 7, 8, 8, 9, 10, 12])\n",
    "x_mean = np.mean(x)\n",
    "y_mean = np.mean(y)\n",
    "m = np.sum((x - x_mean) * (y - y_mean)) / np.sum((x - x_mean)**2)\n",
    "b = y_mean - m * x_mean\n",
    "y_pred = m * x + b\n",
    "SSE = np.sum((y - y_pred)**2)\n",
    "SS_total = np.sum((y - y_mean)**2)\n",
    "R_squared = 1 - (SSE / SS_total)\n",
    "print(\"Slope (m):\", m)\n",
    "print(\"Intercept (b):\", b)\n",
    "print(\"Sum Squared Error (SSE):\", SSE)\n",
    "print(\"R squared:\", R_squared)"
   ]
  },
  {
   "cell_type": "code",
   "execution_count": 2,
   "id": "818d43ac",
   "metadata": {},
   "outputs": [
    {
     "name": "stdout",
     "output_type": "stream",
     "text": [
      "Full-Batch Gradient Descent\n",
      "Slope (m): 1.262502787535618\n",
      "Intercept (b): 0.6544167888202638\n",
      "Sum Squared Error (SSE): 6.605929584912748\n",
      "R squared: 0.9442537587771076\n"
     ]
    }
   ],
   "source": [
    "#Implement gradient descent (both Full-batch and Stochastic with stopping criteria) on Least Mean Square loss formulation to compute the coefficients of\n",
    "#regression matrix and compare the results using performance measures such as R 2\n",
    "#SSE etc.\n",
    "\n",
    "#full batch\n",
    "\n",
    "def full_batch_gradient_descent(x, y, alpha=0.001, max_iter=1000, tol=1e-6):\n",
    "    m = 0\n",
    "    b = 0\n",
    "    n = len(x)\n",
    "    for i in range(max_iter):\n",
    "        y_pred = m * x + b\n",
    "        dm = (-2/n) * np.sum(x * (y - y_pred))\n",
    "        db = (-2/n) * np.sum(y - y_pred)\n",
    "        m -= alpha * dm\n",
    "        b -= alpha * db\n",
    "        SSE = np.sum((y - y_pred)**2)\n",
    "        if np.abs(SSE) < tol:\n",
    "            break\n",
    "    return m, b, SSE\n",
    "m_full, b_full, SSE_full = full_batch_gradient_descent(x, y)\n",
    "y_pred_full = m_full * x + b_full\n",
    "R_squared_full = 1 - (SSE_full / SS_total)\n",
    "print(\"Full-Batch Gradient Descent\")\n",
    "print(\"Slope (m):\", m_full)\n",
    "print(\"Intercept (b):\", b_full)\n",
    "print(\"Sum Squared Error (SSE):\", SSE_full)\n",
    "print(\"R squared:\", R_squared_full)"
   ]
  },
  {
   "cell_type": "code",
   "execution_count": 3,
   "id": "6db894b1",
   "metadata": {},
   "outputs": [
    {
     "name": "stdout",
     "output_type": "stream",
     "text": [
      "\n",
      "Stochastic Gradient Descent Solution\n",
      "Regression Coefficients:\n",
      "beta_0: 1.1865207166179466\n",
      "beta_1: 1.1798825432033184\n"
     ]
    }
   ],
   "source": [
    "# stochastic \n",
    "\n",
    "def gradient_descent_stochastic(x, y, learning_rate=0.01, epochs=1000, tol=1e-6):\n",
    "    n = len(x)\n",
    "    beta_0 = 0\n",
    "    beta_1 = 0\n",
    "    prev_loss = float('inf')\n",
    "    for epoch in range(epochs):\n",
    "        indices = np.random.permutation(n)\n",
    "        x_shuffled = x[indices]\n",
    "        y_shuffled = y[indices]\n",
    "        for i in range(n):\n",
    "            y_pred = beta_0 + beta_1 * x_shuffled[i]\n",
    "            loss = (y_pred - y_shuffled[i]) ** 2\n",
    "            grad_beta_0 = 2 * (y_pred - y_shuffled[i])\n",
    "            grad_beta_1 = 2 * x_shuffled[i] * (y_pred - y_shuffled[i])\n",
    "            beta_0 -= learning_rate * grad_beta_0\n",
    "            beta_1 -= learning_rate * grad_beta_1\n",
    "        y_pred = beta_0 + beta_1 * x\n",
    "        total_loss = np.mean((y_pred - y) ** 2)\n",
    "        if abs(prev_loss - total_loss) < tol:\n",
    "            break\n",
    "        prev_loss = total_loss\n",
    "    return beta_0, beta_1\n",
    "beta_0_stochastic, beta_1_stochastic = gradient_descent_stochastic(x, y)\n",
    "print(\"\\nStochastic Gradient Descent Solution\")\n",
    "print(\"Regression Coefficients:\")\n",
    "print(\"beta_0:\",beta_0_stochastic)\n",
    "print(\"beta_1:\",beta_1_stochastic)"
   ]
  },
  {
   "cell_type": "markdown",
   "id": "8a47df61",
   "metadata": {},
   "source": [
    "## Housing Data Set"
   ]
  },
  {
   "cell_type": "code",
   "execution_count": 4,
   "id": "75de98ec",
   "metadata": {},
   "outputs": [],
   "source": [
    "# Download Boston Housing Rate Dataset. Analyse the input attributes and find out the attribute that\n",
    "# best follow the linear relationship with the output price. Implement both the analytic formulation \n",
    "# and gradient descent (Full-batch, stochastic) on LMS loss formulation to compute the coefficients \n",
    "# of regression matrix and compare the results.\n",
    "import pandas as pd\n",
    "import numpy as np\n",
    "from sklearn.datasets import fetch_california_housing\n",
    "import matplotlib.pyplot as plt\n",
    "from pandas.plotting import scatter_matrix\n",
    "from sklearn.metrics import r2_score\n",
    "from sklearn.linear_model import LinearRegression\n",
    "from sklearn.pipeline import Pipeline\n",
    "from sklearn.preprocessing import StandardScaler\n",
    "from sklearn.model_selection import train_test_split"
   ]
  },
  {
   "cell_type": "code",
   "execution_count": 5,
   "id": "4b23b2ea",
   "metadata": {},
   "outputs": [],
   "source": [
    "from sklearn.datasets import fetch_california_housing\n",
    "housing = fetch_california_housing()"
   ]
  },
  {
   "cell_type": "code",
   "execution_count": 6,
   "id": "606fdb03",
   "metadata": {},
   "outputs": [
    {
     "data": {
      "text/html": [
       "<div>\n",
       "<style scoped>\n",
       "    .dataframe tbody tr th:only-of-type {\n",
       "        vertical-align: middle;\n",
       "    }\n",
       "\n",
       "    .dataframe tbody tr th {\n",
       "        vertical-align: top;\n",
       "    }\n",
       "\n",
       "    .dataframe thead th {\n",
       "        text-align: right;\n",
       "    }\n",
       "</style>\n",
       "<table border=\"1\" class=\"dataframe\">\n",
       "  <thead>\n",
       "    <tr style=\"text-align: right;\">\n",
       "      <th></th>\n",
       "      <th>MedInc</th>\n",
       "      <th>HouseAge</th>\n",
       "      <th>AveRooms</th>\n",
       "      <th>AveBedrms</th>\n",
       "      <th>Population</th>\n",
       "      <th>AveOccup</th>\n",
       "      <th>Latitude</th>\n",
       "      <th>Longitude</th>\n",
       "    </tr>\n",
       "  </thead>\n",
       "  <tbody>\n",
       "    <tr>\n",
       "      <th>0</th>\n",
       "      <td>8.3252</td>\n",
       "      <td>41.0</td>\n",
       "      <td>6.984127</td>\n",
       "      <td>1.023810</td>\n",
       "      <td>322.0</td>\n",
       "      <td>2.555556</td>\n",
       "      <td>37.88</td>\n",
       "      <td>-122.23</td>\n",
       "    </tr>\n",
       "    <tr>\n",
       "      <th>1</th>\n",
       "      <td>8.3014</td>\n",
       "      <td>21.0</td>\n",
       "      <td>6.238137</td>\n",
       "      <td>0.971880</td>\n",
       "      <td>2401.0</td>\n",
       "      <td>2.109842</td>\n",
       "      <td>37.86</td>\n",
       "      <td>-122.22</td>\n",
       "    </tr>\n",
       "    <tr>\n",
       "      <th>2</th>\n",
       "      <td>7.2574</td>\n",
       "      <td>52.0</td>\n",
       "      <td>8.288136</td>\n",
       "      <td>1.073446</td>\n",
       "      <td>496.0</td>\n",
       "      <td>2.802260</td>\n",
       "      <td>37.85</td>\n",
       "      <td>-122.24</td>\n",
       "    </tr>\n",
       "    <tr>\n",
       "      <th>3</th>\n",
       "      <td>5.6431</td>\n",
       "      <td>52.0</td>\n",
       "      <td>5.817352</td>\n",
       "      <td>1.073059</td>\n",
       "      <td>558.0</td>\n",
       "      <td>2.547945</td>\n",
       "      <td>37.85</td>\n",
       "      <td>-122.25</td>\n",
       "    </tr>\n",
       "    <tr>\n",
       "      <th>4</th>\n",
       "      <td>3.8462</td>\n",
       "      <td>52.0</td>\n",
       "      <td>6.281853</td>\n",
       "      <td>1.081081</td>\n",
       "      <td>565.0</td>\n",
       "      <td>2.181467</td>\n",
       "      <td>37.85</td>\n",
       "      <td>-122.25</td>\n",
       "    </tr>\n",
       "    <tr>\n",
       "      <th>...</th>\n",
       "      <td>...</td>\n",
       "      <td>...</td>\n",
       "      <td>...</td>\n",
       "      <td>...</td>\n",
       "      <td>...</td>\n",
       "      <td>...</td>\n",
       "      <td>...</td>\n",
       "      <td>...</td>\n",
       "    </tr>\n",
       "    <tr>\n",
       "      <th>20635</th>\n",
       "      <td>1.5603</td>\n",
       "      <td>25.0</td>\n",
       "      <td>5.045455</td>\n",
       "      <td>1.133333</td>\n",
       "      <td>845.0</td>\n",
       "      <td>2.560606</td>\n",
       "      <td>39.48</td>\n",
       "      <td>-121.09</td>\n",
       "    </tr>\n",
       "    <tr>\n",
       "      <th>20636</th>\n",
       "      <td>2.5568</td>\n",
       "      <td>18.0</td>\n",
       "      <td>6.114035</td>\n",
       "      <td>1.315789</td>\n",
       "      <td>356.0</td>\n",
       "      <td>3.122807</td>\n",
       "      <td>39.49</td>\n",
       "      <td>-121.21</td>\n",
       "    </tr>\n",
       "    <tr>\n",
       "      <th>20637</th>\n",
       "      <td>1.7000</td>\n",
       "      <td>17.0</td>\n",
       "      <td>5.205543</td>\n",
       "      <td>1.120092</td>\n",
       "      <td>1007.0</td>\n",
       "      <td>2.325635</td>\n",
       "      <td>39.43</td>\n",
       "      <td>-121.22</td>\n",
       "    </tr>\n",
       "    <tr>\n",
       "      <th>20638</th>\n",
       "      <td>1.8672</td>\n",
       "      <td>18.0</td>\n",
       "      <td>5.329513</td>\n",
       "      <td>1.171920</td>\n",
       "      <td>741.0</td>\n",
       "      <td>2.123209</td>\n",
       "      <td>39.43</td>\n",
       "      <td>-121.32</td>\n",
       "    </tr>\n",
       "    <tr>\n",
       "      <th>20639</th>\n",
       "      <td>2.3886</td>\n",
       "      <td>16.0</td>\n",
       "      <td>5.254717</td>\n",
       "      <td>1.162264</td>\n",
       "      <td>1387.0</td>\n",
       "      <td>2.616981</td>\n",
       "      <td>39.37</td>\n",
       "      <td>-121.24</td>\n",
       "    </tr>\n",
       "  </tbody>\n",
       "</table>\n",
       "<p>20640 rows × 8 columns</p>\n",
       "</div>"
      ],
      "text/plain": [
       "       MedInc  HouseAge  AveRooms  AveBedrms  Population  AveOccup  Latitude  \\\n",
       "0      8.3252      41.0  6.984127   1.023810       322.0  2.555556     37.88   \n",
       "1      8.3014      21.0  6.238137   0.971880      2401.0  2.109842     37.86   \n",
       "2      7.2574      52.0  8.288136   1.073446       496.0  2.802260     37.85   \n",
       "3      5.6431      52.0  5.817352   1.073059       558.0  2.547945     37.85   \n",
       "4      3.8462      52.0  6.281853   1.081081       565.0  2.181467     37.85   \n",
       "...       ...       ...       ...        ...         ...       ...       ...   \n",
       "20635  1.5603      25.0  5.045455   1.133333       845.0  2.560606     39.48   \n",
       "20636  2.5568      18.0  6.114035   1.315789       356.0  3.122807     39.49   \n",
       "20637  1.7000      17.0  5.205543   1.120092      1007.0  2.325635     39.43   \n",
       "20638  1.8672      18.0  5.329513   1.171920       741.0  2.123209     39.43   \n",
       "20639  2.3886      16.0  5.254717   1.162264      1387.0  2.616981     39.37   \n",
       "\n",
       "       Longitude  \n",
       "0        -122.23  \n",
       "1        -122.22  \n",
       "2        -122.24  \n",
       "3        -122.25  \n",
       "4        -122.25  \n",
       "...          ...  \n",
       "20635    -121.09  \n",
       "20636    -121.21  \n",
       "20637    -121.22  \n",
       "20638    -121.32  \n",
       "20639    -121.24  \n",
       "\n",
       "[20640 rows x 8 columns]"
      ]
     },
     "execution_count": 6,
     "metadata": {},
     "output_type": "execute_result"
    }
   ],
   "source": [
    "housing = pd.DataFrame(housing.data, columns=housing.feature_names)\n",
    "housing"
   ]
  },
  {
   "cell_type": "code",
   "execution_count": 7,
   "id": "c9ee4e09",
   "metadata": {},
   "outputs": [],
   "source": [
    "X = housing.iloc[:,:-1]\n",
    "y = housing.iloc[:,-1]\n",
    "X_train, X_test, y_train, y_test = train_test_split(X, y, test_size=0.2, random_state=42)"
   ]
  },
  {
   "cell_type": "code",
   "execution_count": 8,
   "id": "f7ea8347",
   "metadata": {},
   "outputs": [
    {
     "data": {
      "text/plain": [
       "Pipeline(steps=[('scaler', StandardScaler()),\n",
       "                ('regressor', LinearRegression())])"
      ]
     },
     "execution_count": 8,
     "metadata": {},
     "output_type": "execute_result"
    }
   ],
   "source": [
    "regression_pipeline = Pipeline([\n",
    "    ('scaler', StandardScaler()),\n",
    "    ('regressor', LinearRegression())\n",
    "])\n",
    "regression_pipeline.fit(X_train,y_train)"
   ]
  },
  {
   "cell_type": "code",
   "execution_count": 9,
   "id": "f972b302",
   "metadata": {},
   "outputs": [
    {
     "data": {
      "text/plain": [
       "0.892626162310851"
      ]
     },
     "execution_count": 9,
     "metadata": {},
     "output_type": "execute_result"
    }
   ],
   "source": [
    "y_pred = regression_pipeline.predict(X_test)\n",
    "r2_score( y_test, y_pred)"
   ]
  },
  {
   "cell_type": "code",
   "execution_count": 10,
   "id": "b756a50c",
   "metadata": {},
   "outputs": [
    {
     "data": {
      "image/png": "[encoded data removed]",
      "text/plain": [
       "<Figure size 720x432 with 1 Axes>"
      ]
     },
     "metadata": {
      "needs_background": "light"
     },
     "output_type": "display_data"
    }
   ],
   "source": [
    "import numpy as np\n",
    "import matplotlib.pyplot as plt\n",
    "from sklearn.datasets import fetch_california_housing\n",
    "from sklearn.model_selection import train_test_split\n",
    "from sklearn.linear_model import LinearRegression\n",
    "\n",
    "california_housing = fetch_california_housing()\n",
    "\n",
    "X = california_housing.data\n",
    "y = california_housing.target\n",
    "\n",
    "X_train, X_test, y_train, y_test = train_test_split(X, y, test_size=0.2, random_state=42)\n",
    "\n",
    "model = LinearRegression()\n",
    "model.fit(X_train, y_train)\n",
    "\n",
    "import matplotlib.pyplot as plt\n",
    "\n",
    "y_pred = model.predict(X_test)\n",
    "\n",
    "plt.figure(figsize=(10, 6))\n",
    "plt.scatter(y_test, y_pred, color='Black')\n",
    "plt.plot([min(y_test), max(y_test)], [min(y_test), max(y_test)], color='red')  # Diagonal line\n",
    "plt.xlabel('Actual Values')\n",
    "plt.ylabel('Predicted Values')\n",
    "plt.title('Actual vs Predicted Values')\n",
    "plt.show()"
   ]
  },
  {
   "cell_type": "code",
   "execution_count": 11,
   "id": "bd24755f",
   "metadata": {},
   "outputs": [
    {
     "name": "stdout",
     "output_type": "stream",
     "text": [
      "Mean Squared Error (Full-Batch Gradient Descent with Scaling): 4.871700716846998\n",
      "Mean Squared Error (Stochastic Gradient Descent with Scaling): 129.73528841533292\n"
     ]
    }
   ],
   "source": [
    "from sklearn.preprocessing import StandardScaler\n",
    "from sklearn.metrics import mean_squared_error\n",
    "\n",
    "scaler = StandardScaler()\n",
    "X_train_scaled = scaler.fit_transform(X_train)\n",
    "X_test_scaled = scaler.transform(X_test)\n",
    "\n",
    "def full_batch_gradient_descent_scaled(X, y, learning_rate=0.01, n_iterations=1000):\n",
    "    n_samples, n_features = X.shape\n",
    "    theta = np.random.randn(n_features) \n",
    "    for _ in range(n_iterations):\n",
    "        gradients = -2/n_samples * X.T.dot(y - X.dot(theta))\n",
    "        theta -= learning_rate * gradients\n",
    "    return theta\n",
    "\n",
    "def stochastic_gradient_descent_scaled(X, y, learning_rate=0.01, n_iterations=1000):\n",
    "    n_samples, n_features = X.shape\n",
    "    theta = np.random.randn(n_features)  \n",
    "    for _ in range(n_iterations):\n",
    "        random_index = np.random.randint(n_samples)\n",
    "        xi = X[random_index:random_index+1]\n",
    "        yi = y[random_index:random_index+1]\n",
    "        gradients = -2 * xi.T.dot(yi - xi.dot(theta))\n",
    "        theta -= learning_rate * gradients\n",
    "    return theta\n",
    "\n",
    "theta_full_batch_scaled = full_batch_gradient_descent_scaled(X_train_scaled, y_train)\n",
    "theta_stochastic_scaled = stochastic_gradient_descent_scaled(X_train_scaled, y_train)\n",
    "y_pred_full_batch_scaled = X_test_scaled.dot(theta_full_batch_scaled)\n",
    "y_pred_stochastic_scaled = X_test_scaled.dot(theta_stochastic_scaled)\n",
    "\n",
    "mse_full_batch_scaled = mean_squared_error(y_test, y_pred_full_batch_scaled)\n",
    "mse_stochastic_scaled = mean_squared_error(y_test, y_pred_stochastic_scaled)\n",
    "\n",
    "print(\"Mean Squared Error (Full-Batch Gradient Descent with Scaling):\", mse_full_batch_scaled)\n",
    "print(\"Mean Squared Error (Stochastic Gradient Descent with Scaling):\", mse_stochastic_scaled)"
   ]
  },
  {
   "cell_type": "code",
   "execution_count": null,
   "id": "51066bd1",
   "metadata": {},
   "outputs": [],
   "source": []
  }
 ],
 "metadata": {
  "kernelspec": {
   "display_name": "Python 3 (ipykernel)",
   "language": "python",
   "name": "python3"
  },
  "language_info": {
   "codemirror_mode": {
    "name": "ipython",
    "version": 3
   },
   "file_extension": ".py",
   "mimetype": "text/x-python",
   "name": "python",
   "nbconvert_exporter": "python",
   "pygments_lexer": "ipython3",
   "version": "3.9.12"
  }
 },
 "nbformat": 4,
 "nbformat_minor": 5
}
