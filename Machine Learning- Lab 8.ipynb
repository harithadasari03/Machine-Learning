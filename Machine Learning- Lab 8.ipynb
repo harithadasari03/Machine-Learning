{
 "cells": [
  {
   "cell_type": "code",
   "execution_count": 1,
   "metadata": {
    "colab": {
     "base_uri": "https://localhost:8080/"
    },
    "id": "haO_orkbensP",
    "outputId": "8fd486c3-16ea-4c47-d398-8f9eb08a6204"
   },
   "outputs": [
    {
     "name": "stdout",
     "output_type": "stream",
     "text": [
      "Enter coordinates of point (x, y, z): 2 4 6\n",
      "Enter coordinates of point (x, y, z): 3 5 7\n",
      "Enter the value of k for Minkowski distance: 3\n",
      "Euclidean distance: 1.7320508075688772\n",
      "Manhattan distance: 3.0\n",
      "Minkowski distance with k=3: 1.4422495703074083\n"
     ]
    }
   ],
   "source": [
    "#1. Take two 3D coordinates from the user. Find out the distance between these points using Euclidean, Manhattan and Minkowski functions.\n",
    "#x and y are vectors representing the coordinates of two points. Here, k=3\n",
    "\n",
    "import numpy as np\n",
    "\n",
    "def euclidean_distance(point1, point2):\n",
    "    return np.sqrt(np.sum((point1 - point2) ** 2))\n",
    "\n",
    "def manhattan_distance(point1, point2):\n",
    "    return np.sum(np.abs(point1 - point2))\n",
    "\n",
    "def minkowski_distance(point1, point2, k):\n",
    "    return np.power(np.sum(np.abs(point1 - point2) ** k), 1/k)\n",
    "\n",
    "def get_coordinates():\n",
    "    return np.array([float(x) for x in input(\"Enter coordinates of point (x, y, z): \").split()])\n",
    "\n",
    "def main():\n",
    "    point1 = get_coordinates()\n",
    "    point2 = get_coordinates()\n",
    "    k = int(input(\"Enter the value of k for Minkowski distance: \"))\n",
    "\n",
    "    print(\"Euclidean distance:\", euclidean_distance(point1, point2))\n",
    "    print(\"Manhattan distance:\", manhattan_distance(point1, point2))\n",
    "    print(f\"Minkowski distance with k={k}:\", minkowski_distance(point1, point2, k))\n",
    "\n",
    "if __name__ == \"__main__\":\n",
    "    main()\n"
   ]
  },
  {
   "cell_type": "code",
   "execution_count": 2,
   "metadata": {
    "colab": {
     "base_uri": "https://localhost:8080/"
    },
    "id": "EgFrauN_fDkt",
    "outputId": "1a6611c7-2bb9-4d90-9d9b-5a26f64dfc2c"
   },
   "outputs": [
    {
     "name": "stdout",
     "output_type": "stream",
     "text": [
      "Euclidean Distance Matrix:\n",
      "[[0.         0.53851648 0.50990195 ... 4.45982062 4.65080638 4.14004831]\n",
      " [0.53851648 0.         0.3        ... 4.49888875 4.71805044 4.15331193]\n",
      " [0.50990195 0.3        0.         ... 4.66154481 4.84871117 4.29883705]\n",
      " ...\n",
      " [4.45982062 4.49888875 4.66154481 ... 0.         0.6164414  0.64031242]\n",
      " [4.65080638 4.71805044 4.84871117 ... 0.6164414  0.         0.76811457]\n",
      " [4.14004831 4.15331193 4.29883705 ... 0.64031242 0.76811457 0.        ]]\n"
     ]
    }
   ],
   "source": [
    "#2.Import the Iris dataset. Write a program to obtain the Euclidian Distance Matrix for all the data samples in the feature space. Distance metric is a 2D array, where the\n",
    "#(i,j)th entry represents the distance between the ith and jth sample points in the feature space.\n",
    "\n",
    "from sklearn.datasets import load_iris\n",
    "from scipy.spatial.distance import euclidean\n",
    "import numpy as np\n",
    "\n",
    "# Load the Iris dataset\n",
    "iris = load_iris()\n",
    "data = iris.data\n",
    "\n",
    "# Function to compute Euclidean Distance Matrix\n",
    "def euclidean_distance_matrix(data):\n",
    "    num_samples = len(data)\n",
    "    distance_matrix = np.zeros((num_samples, num_samples))\n",
    "    for i in range(num_samples):\n",
    "        for j in range(num_samples):\n",
    "            distance_matrix[i, j] = euclidean(data[i], data[j])\n",
    "    return distance_matrix\n",
    "\n",
    "# Compute Euclidean Distance Matrix\n",
    "distance_matrix = euclidean_distance_matrix(data)\n",
    "\n",
    "# Print the Euclidean Distance Matrix\n",
    "print(\"Euclidean Distance Matrix:\")\n",
    "print(distance_matrix)\n"
   ]
  },
  {
   "cell_type": "code",
   "execution_count": 3,
   "metadata": {
    "colab": {
     "base_uri": "https://localhost:8080/",
     "height": 564
    },
    "id": "byxdNJFVgq5W",
    "outputId": "d76172f1-8507-4079-c6ac-9297c82f6d06"
   },
   "outputs": [
    {
     "data": {
      "image/png": "[encoded data removed]",
      "text/plain": [
       "<Figure size 576x432 with 1 Axes>"
      ]
     },
     "metadata": {
      "needs_background": "light"
     },
     "output_type": "display_data"
    }
   ],
   "source": [
    "#3.Import the Iris dataset. Prepare a dataset considering samples belong to any two output classes. Draw the scatter plot for all the samples in the new dataset considering\n",
    "#any two input attributes. Examine the scatter plot to find the equation of a line that can separate sample of two classes.\n",
    "\n",
    "import matplotlib.pyplot as plt\n",
    "import numpy as np\n",
    "from sklearn.datasets import load_iris\n",
    "\n",
    "iris = load_iris()\n",
    "data = iris.data\n",
    "target = iris.target\n",
    "\n",
    "class_1_index = 0\n",
    "class_2_index = 1\n",
    "\n",
    "class_1_data = data[target == class_1_index]\n",
    "class_2_data = data[target == class_2_index]\n",
    "\n",
    "attribute_1_index = 0\n",
    "attribute_2_index = 1\n",
    "\n",
    "plt.figure(figsize=(8, 6))\n",
    "plt.scatter(class_1_data[:, attribute_1_index], class_1_data[:, attribute_2_index], label=f'Class {class_1_index}')\n",
    "plt.scatter(class_2_data[:, attribute_1_index], class_2_data[:, attribute_2_index], label=f'Class {class_2_index}')\n",
    "plt.xlabel(iris.feature_names[attribute_1_index])\n",
    "plt.ylabel(iris.feature_names[attribute_2_index])\n",
    "plt.title(f'Scatter Plot of Classes {class_1_index} and {class_2_index}')\n",
    "plt.legend()\n",
    "plt.grid(True)\n",
    "\n",
    "m = 0.8\n",
    "c = -0.5\n",
    "\n",
    "x_values = np.linspace(min(data[:, attribute_1_index]), max(data[:, attribute_1_index]), 100)\n",
    "y_values = m * x_values + c\n",
    "plt.plot(x_values, y_values, color='red', linestyle='-', label='Separating Line')\n",
    "\n",
    "plt.show()"
   ]
  },
  {
   "cell_type": "code",
   "execution_count": null,
   "metadata": {
    "id": "A3VZFdQehEH2"
   },
   "outputs": [],
   "source": []
  }
 ],
 "metadata": {
  "colab": {
   "provenance": []
  },
  "kernelspec": {
   "display_name": "Python 3 (ipykernel)",
   "language": "python",
   "name": "python3"
  },
  "language_info": {
   "codemirror_mode": {
    "name": "ipython",
    "version": 3
   },
   "file_extension": ".py",
   "mimetype": "text/x-python",
   "name": "python",
   "nbconvert_exporter": "python",
   "pygments_lexer": "ipython3",
   "version": "3.9.12"
  }
 },
 "nbformat": 4,
 "nbformat_minor": 1
}
