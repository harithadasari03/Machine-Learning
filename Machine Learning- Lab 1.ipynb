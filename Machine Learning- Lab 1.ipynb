{
 "cells": [
  {
   "cell_type": "markdown",
   "id": "22f6a01d",
   "metadata": {},
   "source": [
    "# Numpy"
   ]
  },
  {
   "cell_type": "code",
   "execution_count": 1,
   "id": "2c0a63f1",
   "metadata": {},
   "outputs": [
    {
     "name": "stdout",
     "output_type": "stream",
     "text": [
      "Array 1: [1 2 3 4]\n",
      "Array 2: [5 6 7 8]\n",
      "Result: [ 5 12 21 32]\n"
     ]
    }
   ],
   "source": [
    "#1.Write a NumPy program to multiply two given arrays of same size element-by-element.\n",
    "import numpy as np\n",
    "array1 = np.array([1, 2, 3, 4])\n",
    "array2 = np.array([5, 6, 7, 8])\n",
    "result = array1 * array2\n",
    "print(\"Array 1:\", array1)\n",
    "print(\"Array 2:\", array2)\n",
    "print(\"Result:\", result)"
   ]
  },
  {
   "cell_type": "code",
   "execution_count": 2,
   "id": "d9285b74",
   "metadata": {},
   "outputs": [
    {
     "name": "stdout",
     "output_type": "stream",
     "text": [
      "Missing Data:  [1 4]\n"
     ]
    }
   ],
   "source": [
    "#2.Write a NumPy program to find the missing data in a given array.\n",
    "import numpy as np\n",
    "data=np.array([1,np.nan,3,4,np.nan,6])\n",
    "missing=np.isnan(data)\n",
    "print(\"Missing Data: \",np.where(missing)[0])"
   ]
  },
  {
   "cell_type": "code",
   "execution_count": 3,
   "id": "21735218",
   "metadata": {},
   "outputs": [
    {
     "name": "stdout",
     "output_type": "stream",
     "text": [
      "Array 1: [1 2 3 4 5]\n",
      "Array 2: [5 6 7 8 9]\n",
      "Presence check: [False False False False  True]\n"
     ]
    }
   ],
   "source": [
    "#3.Write a NumPy program to test whether each element of a 1-D array is also present in a second array.\n",
    "import numpy as np\n",
    "array1 = np.array([1, 2, 3, 4, 5])\n",
    "array2 = np.array([5, 6, 7, 8, 9])\n",
    "presence_check = np.in1d(array1, array2)\n",
    "print(\"Array 1:\", array1)\n",
    "print(\"Array 2:\", array2)\n",
    "print(\"Presence check:\", presence_check)"
   ]
  },
  {
   "cell_type": "code",
   "execution_count": 4,
   "id": "13a84210",
   "metadata": {},
   "outputs": [
    {
     "name": "stdout",
     "output_type": "stream",
     "text": [
      "Array has been saved to array_data.txt\n"
     ]
    }
   ],
   "source": [
    "#4.Write a NumPy program to save a NumPy array to a text file.\n",
    "import numpy as np\n",
    "array_to_save = np.array([[1, 2, 3],\n",
    "                          [4, 5, 6],\n",
    "                          [7, 8, 9]])\n",
    "file_path = \"array_data.txt\"\n",
    "np.savetxt(file_path, array_to_save)\n",
    "print(\"Array has been saved to\", file_path)"
   ]
  },
  {
   "cell_type": "code",
   "execution_count": 5,
   "id": "1c8ba830",
   "metadata": {},
   "outputs": [
    {
     "name": "stdout",
     "output_type": "stream",
     "text": [
      "1-D array of 30 evenly spaced elements between 2.5 and 6.5 (inclusive):\n",
      "[2.5        2.63793103 2.77586207 2.9137931  3.05172414 3.18965517\n",
      " 3.32758621 3.46551724 3.60344828 3.74137931 3.87931034 4.01724138\n",
      " 4.15517241 4.29310345 4.43103448 4.56896552 4.70689655 4.84482759\n",
      " 4.98275862 5.12068966 5.25862069 5.39655172 5.53448276 5.67241379\n",
      " 5.81034483 5.94827586 6.0862069  6.22413793 6.36206897 6.5       ]\n"
     ]
    }
   ],
   "source": [
    "#5.Write a NumPy program to Create a 1-D array of 30 evenly spaced elements between 2.5. and 6.5, inclusive.\n",
    "import numpy as np\n",
    "array = np.linspace(2.5, 6.5, 30)\n",
    "print(\"1-D array of 30 evenly spaced elements between 2.5 and 6.5 (inclusive):\")\n",
    "print(array)"
   ]
  },
  {
   "cell_type": "markdown",
   "id": "2d0fe2f3",
   "metadata": {},
   "source": [
    "# Pandas"
   ]
  },
  {
   "cell_type": "code",
   "execution_count": 6,
   "id": "281e412e",
   "metadata": {},
   "outputs": [
    {
     "name": "stdout",
     "output_type": "stream",
     "text": [
      "Series of lists:\n",
      "0          [1, 2]\n",
      "1       [3, 4, 5]\n",
      "2    [6, 7, 8, 9]\n",
      "dtype: object\n",
      "\n",
      "Single Series:\n",
      "0    1\n",
      "0    2\n",
      "1    3\n",
      "1    4\n",
      "1    5\n",
      "2    6\n",
      "2    7\n",
      "2    8\n",
      "2    9\n",
      "dtype: object\n"
     ]
    }
   ],
   "source": [
    "#1.Write a Pandas program to convert Series of lists to one Series.\n",
    "import pandas as pd\n",
    "series_of_lists = pd.Series([[1, 2], [3, 4, 5], [6, 7, 8, 9]])\n",
    "single_series = series_of_lists.explode()\n",
    "print(\"Series of lists:\")\n",
    "print(series_of_lists)\n",
    "print(\"\\nSingle Series:\")\n",
    "print(single_series)"
   ]
  },
  {
   "cell_type": "code",
   "execution_count": 7,
   "id": "9f668a83",
   "metadata": {},
   "outputs": [
    {
     "name": "stdout",
     "output_type": "stream",
     "text": [
      "Original Series:\n",
      "a    1\n",
      "b    2\n",
      "c    3\n",
      "d    4\n",
      "e    5\n",
      "dtype: int64\n",
      "\n",
      "Subset where values are equal to 3\n",
      "c    3\n",
      "dtype: int64\n"
     ]
    }
   ],
   "source": [
    "#2.Write a Pandas program to create a subset of a given series based on value and condition.\n",
    "import pandas as pd\n",
    "data = {'A': [1, 2, 3, 4, 5],\n",
    "        'B': ['a', 'b', 'c', 'd', 'e']}\n",
    "series = pd.Series(data['A'], index=data['B'])\n",
    "condition_value = 3\n",
    "subset = series[series == condition_value]\n",
    "print(\"Original Series:\")\n",
    "print(series)\n",
    "print(\"\\nSubset where values are equal to\", condition_value)\n",
    "print(subset)"
   ]
  },
  {
   "cell_type": "code",
   "execution_count": 8,
   "id": "22a8094e",
   "metadata": {},
   "outputs": [
    {
     "name": "stdout",
     "output_type": "stream",
     "text": [
      "Most frequent value: Pen\n",
      "Modified Series: 0      Pen\n",
      "1    Other\n",
      "2    Other\n",
      "3      Pen\n",
      "4    Other\n",
      "5    Other\n",
      "6    Other\n",
      "dtype: object\n"
     ]
    }
   ],
   "source": [
    "#3.Write a Pandas program to display most frequent value in a given series and replace everything else as 'Other' in the series.\n",
    "import pandas as pd\n",
    "s = pd.Series(['Pen', 'Pencil', 'Eraser', 'Pen', 'Pencil', 'Sharpener', 'Ruler'])\n",
    "most_frequent = s.value_counts().index[0]\n",
    "s[~s.isin(s.value_counts().index[:1])] = 'Other'\n",
    "print(\"Most frequent value:\", most_frequent)\n",
    "print(\"Modified Series:\", s)"
   ]
  },
  {
   "cell_type": "code",
   "execution_count": 9,
   "id": "f55a97f8",
   "metadata": {},
   "outputs": [
    {
     "name": "stdout",
     "output_type": "stream",
     "text": [
      "Positions of multiples of 5: Int64Index([0, 1, 2, 3, 4, 5, 6], dtype='int64')\n"
     ]
    }
   ],
   "source": [
    "#4.Write a Pandas program to find the positions of numbers that are multiples of 5 of a given series.\n",
    "import pandas as pd\n",
    "s = pd.Series([5, 10, 25, 15, 30, 45, 20])\n",
    "positions = s.index[s % 5 == 0]\n",
    "print(\"Positions of multiples of 5:\", positions)"
   ]
  },
  {
   "cell_type": "code",
   "execution_count": 10,
   "id": "eb007e22",
   "metadata": {},
   "outputs": [
    {
     "name": "stdout",
     "output_type": "stream",
     "text": [
      "Character count: 0    5\n",
      "1    6\n",
      "2    7\n",
      "3    8\n",
      "4    3\n",
      "5    6\n",
      "dtype: int64\n"
     ]
    }
   ],
   "source": [
    "#5.Write a Pandas program to calculate the number of characters in each word in a given series.\n",
    "import pandas as pd\n",
    "s = pd.Series(['Numpy', 'Pandas', 'Machine', 'Learning', 'Lab', 'Python'])\n",
    "char_counts = s.str.len()\n",
    "print(\"Character count:\", char_counts)"
   ]
  },
  {
   "cell_type": "code",
   "execution_count": 11,
   "id": "11791225",
   "metadata": {},
   "outputs": [
    {
     "name": "stdout",
     "output_type": "stream",
     "text": [
      "Dates with added day: 0   2024-01-16\n",
      "1   2022-05-16\n",
      "2   2027-04-16\n",
      "dtype: datetime64[ns]\n"
     ]
    }
   ],
   "source": [
    "#6.Write a Pandas program to convert year-month string to dates adding a specified day of the month.\n",
    "import pandas as pd\n",
    "data = [\"2024-01\", \"2022-05\", \"2027-04\"]\n",
    "s = pd.Series(data)\n",
    "day = 15\n",
    "dates = pd.to_datetime(s, format=\"%Y-%m\")\n",
    "dates += pd.to_timedelta(day, unit=\"D\")\n",
    "print(\"Dates with added day:\", dates)"
   ]
  },
  {
   "cell_type": "code",
   "execution_count": 12,
   "id": "a25494fc",
   "metadata": {},
   "outputs": [
    {
     "name": "stdout",
     "output_type": "stream",
     "text": [
      "                Name  Age     City\n",
      "Person 1       Apple   25    Delhi\n",
      "Person 2       Mango   30   Mumbai\n",
      "Person 3  Strawberry   35  Chennai\n"
     ]
    }
   ],
   "source": [
    "#7.Write a Pandas program to create and display a DataFrame from a specified dictionary data which has the index labels.\n",
    "import pandas as pd\n",
    "data = {\n",
    "    \"Name\": [\"Apple\", \"Mango\", \"Strawberry\"],\n",
    "    \"Age\": [25, 30, 35],\n",
    "    \"City\": [\"Delhi\", \"Mumbai\", \"Chennai\"],\n",
    "}\n",
    "index_labels = [\"Person 1\", \"Person 2\", \"Person 3\"]\n",
    "df = pd.DataFrame(data, index=index_labels)\n",
    "print(df)"
   ]
  },
  {
   "cell_type": "code",
   "execution_count": 13,
   "id": "56e64602",
   "metadata": {},
   "outputs": [
    {
     "name": "stdout",
     "output_type": "stream",
     "text": [
      "Original DataFrame:\n",
      "  Student  Attempts\n",
      "0  Eunice         1\n",
      "1   Alice         3\n",
      "2    John         2\n",
      "3     Dev         4\n",
      "\n",
      "Rows where the number of attempts is greater than 2:\n",
      "  Student  Attempts\n",
      "1   Alice         3\n",
      "3     Dev         4\n"
     ]
    }
   ],
   "source": [
    "#8.Write a Pandas program to select the rows where the number of attempts in the examination is greater than 2.\n",
    "import pandas as pd\n",
    "data = {'Student': ['Eunice', 'Alice', 'John', 'Dev'],\n",
    "        'Attempts': [1, 3, 2, 4]}\n",
    "df = pd.DataFrame(data)\n",
    "selected_rows = df[df['Attempts'] > 2]\n",
    "print(\"Original DataFrame:\")\n",
    "print(df)\n",
    "print(\"\\nRows where the number of attempts is greater than 2:\")\n",
    "print(selected_rows)"
   ]
  },
  {
   "cell_type": "code",
   "execution_count": 14,
   "id": "b5466e7f",
   "metadata": {},
   "outputs": [
    {
     "name": "stdout",
     "output_type": "stream",
     "text": [
      "DataFrame with new row:\n",
      "     A   B   C\n",
      "0   1   4   7\n",
      "1   2   5   8\n",
      "2   3   6   9\n",
      "3  10  11  12\n",
      "\n",
      "Original DataFrame:\n",
      "    A  B  C\n",
      "0  1  4  7\n",
      "1  2  5  8\n",
      "2  3  6  9\n"
     ]
    },
    {
     "name": "stderr",
     "output_type": "stream",
     "text": [
      "C:\\Users\\HP\\AppData\\Local\\Temp\\ipykernel_26588\\3319949177.py:5: FutureWarning: The frame.append method is deprecated and will be removed from pandas in a future version. Use pandas.concat instead.\n",
      "  df = df.append(new_row_values, ignore_index=True)\n"
     ]
    }
   ],
   "source": [
    "#9.Write a Pandas program to append a new row 'k' to data frame with given values for each column. Now delete the new row and return the original DataFrame.\n",
    "import pandas as pd\n",
    "df = pd.DataFrame({'A': [1, 2, 3], 'B': [4, 5, 6], 'C': [7, 8, 9]})\n",
    "new_row_values = {'A': 10, 'B': 11, 'C': 12}\n",
    "df = df.append(new_row_values, ignore_index=True)\n",
    "print(\"DataFrame with new row:\\n\", df)\n",
    "df = df.iloc[:-1]  \n",
    "print(\"\\nOriginal DataFrame:\\n\", df)"
   ]
  },
  {
   "cell_type": "code",
   "execution_count": 15,
   "id": "b9efe2a4",
   "metadata": {},
   "outputs": [
    {
     "name": "stdout",
     "output_type": "stream",
     "text": [
      "       name  score\n",
      "3  Rashmita     80\n",
      "1      John     60\n",
      "0   Haritha     50\n",
      "2    Akhila     70\n"
     ]
    }
   ],
   "source": [
    "#10.Write a Pandas program to sort the DataFrame first by 'name' in descending order, then by score in ascending order.\n",
    "import pandas as pd\n",
    "data = {'name': ['Haritha', 'John', 'Akhila', 'Rashmita'],\n",
    "        'score': [50, 60, 70, 80]}\n",
    "df = pd.DataFrame(data)\n",
    "df = df.sort_values(by=['name', 'score'], ascending=[False, True])\n",
    "print(df)"
   ]
  },
  {
   "cell_type": "code",
   "execution_count": 16,
   "id": "df3d5588",
   "metadata": {},
   "outputs": [
    {
     "name": "stdout",
     "output_type": "stream",
     "text": [
      "       name  score  qualify\n",
      "0   Haritha     90     True\n",
      "1      John     80    False\n",
      "2    Akhila     70     True\n",
      "3  Rashmita     60    False\n"
     ]
    }
   ],
   "source": [
    "#11.Write a Pandas program to replace the 'qualify' column contains the values 'yes' and 'no' with True and False.\n",
    "import pandas as pd\n",
    "data = {'name': ['Haritha', 'John', 'Akhila', 'Rashmita'],\n",
    "        'score': [90, 80, 70, 60],\n",
    "        'qualify': ['yes', 'no', 'yes', 'no']}\n",
    "df = pd.DataFrame(data)\n",
    "df['qualify'] = df['qualify'].replace({'yes': True, 'no': False})\n",
    "print(df)"
   ]
  },
  {
   "cell_type": "code",
   "execution_count": 17,
   "id": "3e7e5fe3",
   "metadata": {},
   "outputs": [
    {
     "name": "stdout",
     "output_type": "stream",
     "text": [
      "DataFrame after Removing Infinite Values:    Name  Age\n",
      "0     1  4.0\n",
      "2     3  6.0\n",
      "3     4  7.0\n",
      "4     5  8.0\n"
     ]
    }
   ],
   "source": [
    "#12.Write a Pandas program to remove infinite values from a given DataFrame.\n",
    "import pandas as pd\n",
    "import numpy as np\n",
    "data = {'Name': [1, 2, 3, 4, 5],\n",
    "        'Age': [4, np.inf, 6, 7, 8]}\n",
    "df = pd.DataFrame(data)\n",
    "df = df.replace([np.inf, -np.inf], np.nan)\n",
    "df = df.dropna()\n",
    "print(\"DataFrame after Removing Infinite Values:\",df)"
   ]
  },
  {
   "cell_type": "code",
   "execution_count": null,
   "id": "81f216fb",
   "metadata": {},
   "outputs": [],
   "source": []
  }
 ],
 "metadata": {
  "kernelspec": {
   "display_name": "Python 3 (ipykernel)",
   "language": "python",
   "name": "python3"
  },
  "language_info": {
   "codemirror_mode": {
    "name": "ipython",
    "version": 3
   },
   "file_extension": ".py",
   "mimetype": "text/x-python",
   "name": "python",
   "nbconvert_exporter": "python",
   "pygments_lexer": "ipython3",
   "version": "3.9.12"
  }
 },
 "nbformat": 4,
 "nbformat_minor": 5
}
